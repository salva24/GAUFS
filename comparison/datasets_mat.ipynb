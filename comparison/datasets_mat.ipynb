{
 "cells": [
  {
   "cell_type": "code",
   "execution_count": 1,
   "id": "0c8db1f7",
   "metadata": {},
   "outputs": [],
   "source": [
    "import scipy.io\n",
    "from scipy.io import loadmat\n",
    "import pandas as pd \n",
    "import numpy as np \n",
    "from tqdm import tqdm\n",
    "import os\n",
    "import shutil"
   ]
  },
  {
   "cell_type": "markdown",
   "id": "2b15409e",
   "metadata": {},
   "source": [
    "### Funciones para convertir csv a archivos .mat"
   ]
  },
  {
   "cell_type": "code",
   "execution_count": 2,
   "id": "a7d002a2",
   "metadata": {},
   "outputs": [],
   "source": [
    "def csv_to_mat_X(name_csv): \n",
    "    df = pd.read_csv(f'./datasets_papers/csv/{name_csv}.csv')\n",
    "    X = df.iloc[:, :-1].values\n",
    "    scipy.io.savemat(f'./datasets_papers/mat/{name_csv}_X.mat', {'X': X})\n",
    "\n",
    "\n",
    "def csv_to_mat_Xy(name_csv): \n",
    "    df = pd.read_csv(f'./datasets_papers/csv/{name_csv}.csv')\n",
    "    X = df.iloc[:, :-1].values\n",
    "    y = df.iloc[:,-1].values\n",
    "    scipy.io.savemat(f'./datasets_papers/mat/{name_csv}_Xy.mat', {'X': X, 'y': y})"
   ]
  },
  {
   "cell_type": "markdown",
   "id": "9f2437b0",
   "metadata": {},
   "source": [
    "PASO 1: METER DATASETS EN CARPETA DATASETS (COPIA DEL DATASETS DE CLUSTER-SEARCHER)\n",
    "PASO 2: EJECUTAR LAS SIGUIENTES CELDAS"
   ]
  },
  {
   "cell_type": "code",
   "execution_count": null,
   "id": "8eca765e",
   "metadata": {},
   "outputs": [
    {
     "name": "stderr",
     "output_type": "stream",
     "text": [
      "100%|██████████| 84/84 [00:01<00:00, 42.80it/s]\n"
     ]
    }
   ],
   "source": [
    "current_path = os.getcwd()\n",
    "path_datasets = os.path.join(current_path, \"../datasets\")    \n",
    "for file in tqdm(os.listdir(path_datasets)):\n",
    "    shutil.copy(os.path.join(current_path,f'../datasets/{file}'),os.path.join(current_path,\"datasets_papers/csv\"))"
   ]
  },
  {
   "cell_type": "code",
   "execution_count": 5,
   "id": "55bf1ddc",
   "metadata": {},
   "outputs": [
    {
     "name": "stdout",
     "output_type": "stream",
     "text": [
      "c:\\Users\\anton\\OneDrive\\Escritorio\\Clustering\\test-mat-AutoUFS\\datasets_papers/csv\n"
     ]
    },
    {
     "name": "stderr",
     "output_type": "stream",
     "text": [
      "100%|██████████| 84/84 [00:05<00:00, 15.13it/s]\n"
     ]
    }
   ],
   "source": [
    "path_datasets_papers = os.path.join(current_path,'datasets_papers/csv')\n",
    "print(path_datasets_papers)\n",
    "for file in tqdm(os.listdir(path_datasets_papers)):\n",
    "    if '.git' in file:\n",
    "        continue\n",
    "    csv_to_mat_X(file.removesuffix(\".csv\"))"
   ]
  },
  {
   "cell_type": "code",
   "execution_count": 6,
   "id": "be5dcacb",
   "metadata": {},
   "outputs": [
    {
     "name": "stderr",
     "output_type": "stream",
     "text": [
      "100%|██████████| 84/84 [00:00<00:00, 1196.28it/s]\n"
     ]
    }
   ],
   "source": [
    "for file in tqdm(os.listdir(path_datasets_papers)):\n",
    "    if '.git' in file: \n",
    "        continue\n",
    "    os.makedirs(os.path.join(current_path,f'resultados_papers/{file.removesuffix(\".csv\")}'), exist_ok=True)"
   ]
  },
  {
   "cell_type": "code",
   "execution_count": 7,
   "id": "4b102e76",
   "metadata": {},
   "outputs": [
    {
     "data": {
      "text/plain": [
       "['accent_recognition.csv',\n",
       " 'ac_10clusters_2vars.csv',\n",
       " 'ac_10clusters_3vars.csv',\n",
       " 'ac_10clusters_5vars.csv',\n",
       " 'ac_12clusters_2vars.csv',\n",
       " 'ac_12clusters_7vars.csv',\n",
       " 'ac_5clusters_3vars.csv',\n",
       " 'ac_6clusters_7vars.csv',\n",
       " 'ac_7clusters_2vars.csv',\n",
       " 'ac_7clusters_3vars.csv',\n",
       " 'ac_7clusters_5vars.csv',\n",
       " 'coil20.csv',\n",
       " 'data_balls_10clusters_12_vars_2.csv',\n",
       " 'data_balls_10clusters_14_vars_1.csv',\n",
       " 'data_balls_10clusters_14_vars_5.csv',\n",
       " 'data_balls_12clusters_16_vars_5.csv',\n",
       " 'data_balls_13clusters_13_vars_3.csv',\n",
       " 'data_balls_14clusters_15_vars_4.csv',\n",
       " 'data_balls_15clusters_20_vars_1.csv',\n",
       " 'data_balls_15clusters_30_vars_1.csv',\n",
       " 'data_balls_20clusters5x5.csv',\n",
       " 'data_balls_4clusters_6_vars_2.csv',\n",
       " 'data_balls_4clusters_8_vars_5.csv',\n",
       " 'data_balls_5clusters_5_vars_3.csv',\n",
       " 'data_balls_5clusters_6_vars_1.csv',\n",
       " 'data_balls_5clusters_7_vars_4.csv',\n",
       " 'data_balls_5clusters_8_vars_1.csv',\n",
       " 'data_balls_6clusters_10_vars_5.csv',\n",
       " 'data_balls_6clusters_8_vars_2.csv',\n",
       " 'data_balls_7clusters_7_vars_3.csv',\n",
       " 'data_balls_7clusters_9_vars_4.csv',\n",
       " 'data_balls_8clusters_10_vars_1.csv',\n",
       " 'data_balls_8clusters_10_vars_2.csv',\n",
       " 'data_balls_8clusters_12_vars_1.csv',\n",
       " 'data_balls_8clusters_12_vars_5.csv',\n",
       " 'data_balls_9clusters_11_vars_4.csv',\n",
       " 'data_balls_9clusters_9_vars_3.csv',\n",
       " 'data_corners_10clusters_1.csv',\n",
       " 'data_corners_10clusters_2.csv',\n",
       " 'data_corners_10clusters_3.csv',\n",
       " 'data_corners_12clusters_1.csv',\n",
       " 'data_corners_12clusters_3.csv',\n",
       " 'data_corners_14clusters_1.csv',\n",
       " 'data_corners_14clusters_2.csv',\n",
       " 'data_corners_14clusters_3.csv',\n",
       " 'data_corners_6clusters_1.csv',\n",
       " 'data_corners_6clusters_2.csv',\n",
       " 'data_corners_6clusters_3.csv',\n",
       " 'data_corners_7clusters_1.csv',\n",
       " 'data_corners_7clusters_2.csv',\n",
       " 'dermatology.csv',\n",
       " 'drybean.csv',\n",
       " 'ecoli.csv',\n",
       " 'glass_identification.csv',\n",
       " 'GLIOMA.csv',\n",
       " 'htru2.csv',\n",
       " 'ionosphere.csv',\n",
       " 'iris.csv',\n",
       " 'lung.csv',\n",
       " 'mfeat-fou.csv',\n",
       " 'mfeat-pix.csv',\n",
       " 'mice.csv',\n",
       " 'movement_libras.csv',\n",
       " 'MSRA25.csv',\n",
       " 'newthyroid.csv',\n",
       " 'optdigits.csv',\n",
       " 'orlraws10P.csv',\n",
       " 'page-blocks.csv',\n",
       " 'parkinsons.csv',\n",
       " 'pendigits.csv',\n",
       " 'rice.csv',\n",
       " 'seeds.csv',\n",
       " 'semeion.csv',\n",
       " 'statlog_landsat_satellite.csv',\n",
       " 'texture.csv',\n",
       " 'TOX_171.csv',\n",
       " 'twonorm.csv',\n",
       " 'user_modeling.csv',\n",
       " 'vertebral_column.csv',\n",
       " 'warpPIE10P.csv',\n",
       " 'wdbc.csv',\n",
       " 'wifi_localization.csv',\n",
       " 'wines.csv',\n",
       " 'Yale.csv']"
      ]
     },
     "execution_count": 7,
     "metadata": {},
     "output_type": "execute_result"
    }
   ],
   "source": [
    "os.listdir(path_datasets_papers)"
   ]
  },
  {
   "cell_type": "markdown",
   "id": "d8c4bc85",
   "metadata": {},
   "source": [
    "### Funciones para traernos los .mat a python "
   ]
  },
  {
   "cell_type": "markdown",
   "id": "b0b193d2",
   "metadata": {},
   "source": [
    "Me da los índices ordenados (cuidado que hay que restar 1)"
   ]
  },
  {
   "cell_type": "code",
   "execution_count": 55,
   "id": "6073fca9",
   "metadata": {},
   "outputs": [],
   "source": [
    "def extract_rk(method,name_csv):\n",
    "    mat = loadmat(f'resultados_papers/{name_csv}/result_{method}_{name_csv}.mat')\n",
    "    return mat['Result']['Ranking'][0][0][0] - 1 #cuidado los índices en matlab empiezan en 1 \n",
    "\n",
    "def extract_subset(method,name_csv):\n",
    "    #Metodos que lo tienen : INFS2020\n",
    "    mat = loadmat(f'resultados_papers/{name_csv}/result_{method}_{name_csv}.mat')\n",
    "    return mat['Result']['Subset'][0][0][0] - 1 #cuidado los indices en matlab empiezan en 1 "
   ]
  }
 ],
 "metadata": {
  "kernelspec": {
   "display_name": "base",
   "language": "python",
   "name": "python3"
  },
  "language_info": {
   "codemirror_mode": {
    "name": "ipython",
    "version": 3
   },
   "file_extension": ".py",
   "mimetype": "text/x-python",
   "name": "python",
   "nbconvert_exporter": "python",
   "pygments_lexer": "ipython3",
   "version": "3.11.4"
  }
 },
 "nbformat": 4,
 "nbformat_minor": 5
}
